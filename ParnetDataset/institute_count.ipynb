{
 "cells": [
  {
   "cell_type": "code",
   "execution_count": 1,
   "id": "initial_id",
   "metadata": {
    "collapsed": true,
    "ExecuteTime": {
     "end_time": "2023-11-11T09:36:22.157755400Z",
     "start_time": "2023-11-11T09:36:19.190424900Z"
    }
   },
   "outputs": [
    {
     "name": "stderr",
     "output_type": "stream",
     "text": [
      "C:\\Users\\Xunhaoz\\AppData\\Local\\Temp\\ipykernel_22368\\1266993320.py:2: TqdmExperimentalWarning: Using `tqdm.autonotebook.tqdm` in notebook mode. Use `tqdm.tqdm` instead to force console mode (e.g. in jupyter console)\n",
      "  from tqdm.autonotebook import tqdm\n"
     ]
    }
   ],
   "source": [
    "import twd97\n",
    "from tqdm.autonotebook import tqdm\n",
    "import pandas as pd\n",
    "import numpy as np\n",
    "from pathlib import Path"
   ]
  },
  {
   "cell_type": "code",
   "execution_count": 2,
   "outputs": [],
   "source": [
    "data_path = 'private_dataset.csv'"
   ],
   "metadata": {
    "collapsed": false,
    "ExecuteTime": {
     "end_time": "2023-11-11T09:36:22.172629900Z",
     "start_time": "2023-11-11T09:36:22.157755400Z"
    }
   }
  },
  {
   "cell_type": "code",
   "execution_count": 3,
   "outputs": [
    {
     "data": {
      "text/plain": "  0%|          | 0/5875 [00:00<?, ?it/s]",
      "application/vnd.jupyter.widget-view+json": {
       "version_major": 2,
       "version_minor": 0,
       "model_id": "01a32a22947f4ae29018291c6d422589"
      }
     },
     "metadata": {},
     "output_type": "display_data"
    },
    {
     "name": "stdout",
     "output_type": "stream",
     "text": [
      "房市訓練資料有： 5875 筆\n"
     ]
    },
    {
     "data": {
      "text/plain": "           ID   縣市 鄉鎮市區      路名      土地面積 使用分區  移轉層次  總樓層數   主要用途    主要建材  \\\n0        PR-1  高雄市  前鎮區     鎮海路 -0.541033  NaN    12    14    住家用  鋼筋混凝土造   \n1        PR-2  台北市  北投區     大同街  0.753799  NaN     4     7     其他  鋼筋混凝土造   \n2        PR-3  台北市  大同區     大龍街  0.482869    住     6     7    住家用  鋼筋混凝土造   \n3        PR-4  新北市  蘆洲區     民族路  0.390940  NaN     4     4    住家用    加強磚造   \n4        PR-5  新北市  新莊區     龍安路 -0.711599  NaN     3     8    住家用  鋼筋混凝土造   \n...       ...  ...  ...     ...       ...  ...   ...   ...    ...     ...   \n5870  PR-5871  高雄市  鳳山區     和德街 -0.163249  NaN    25    25   集合住宅  鋼筋混凝土造   \n5871  PR-5872  台北市  南港區     玉成街  1.118749  NaN     6    17  一般事務所      其他   \n5872  PR-5873  新北市  林口區  文化二路一段 -0.053200  NaN    14    14    住家用  鋼筋混凝土造   \n5873  PR-5874  高雄市  鳳山區    文龍東路 -0.089851  NaN     2    15   集合住宅  鋼筋混凝土造   \n5874  PR-5875  新竹縣  竹北市   十興路一段  1.475407  NaN    10    14    住家用  鋼筋混凝土造   \n\n      ...      車位面積  車位個數     橫坐標      縱坐標   備註     主建物面積      陽台面積    附屬建物面積  \\\n0     ... -0.819326   0.0  179750  2499123  NaN  0.127159  0.035249 -0.438452   \n1     ...  0.311470   1.0  300436  2781335  NaN -0.464083 -0.160979 -0.438452   \n2     ... -0.819326   0.0  302091  2773374  NaN  0.832407  2.461656 -0.438452   \n3     ... -0.819326   0.0  298394  2775413  NaN  0.052476 -1.642077 -0.438452   \n4     ... -0.819326   0.0  292572  2767887  NaN -0.968196 -0.333319 -0.022099   \n...   ...       ...   ...     ...      ...  ...       ...       ...       ...   \n5870  ...  1.661628   2.0  184250  2502080  NaN -0.496050  0.946431  0.870392   \n5871  ...  4.845468   3.0  308685  2771134  NaN  2.717029  1.105120 -0.130991   \n5872  ... -0.819326   0.0  287075  2773585  NaN  0.242296 -0.084194 -0.438452   \n5873  ... -0.819326   0.0  185561  2504746  NaN -0.257007  2.461656 -0.438452   \n5874  ...  1.748137   2.0  253067  2746655  NaN  1.500031  0.192232  0.501012   \n\n            lat         lng  \n0     22.590707  120.316770  \n1     25.139613  121.500226  \n2     25.067685  121.516338  \n3     25.086216  121.479765  \n4     25.018446  121.421816  \n...         ...         ...  \n5870  22.617591  120.360410  \n5871  25.047221  121.581601  \n5872  25.070033  121.367504  \n5873  22.641717  120.373053  \n5874  24.827349  121.030342  \n\n[5875 rows x 23 columns]",
      "text/html": "<div>\n<style scoped>\n    .dataframe tbody tr th:only-of-type {\n        vertical-align: middle;\n    }\n\n    .dataframe tbody tr th {\n        vertical-align: top;\n    }\n\n    .dataframe thead th {\n        text-align: right;\n    }\n</style>\n<table border=\"1\" class=\"dataframe\">\n  <thead>\n    <tr style=\"text-align: right;\">\n      <th></th>\n      <th>ID</th>\n      <th>縣市</th>\n      <th>鄉鎮市區</th>\n      <th>路名</th>\n      <th>土地面積</th>\n      <th>使用分區</th>\n      <th>移轉層次</th>\n      <th>總樓層數</th>\n      <th>主要用途</th>\n      <th>主要建材</th>\n      <th>...</th>\n      <th>車位面積</th>\n      <th>車位個數</th>\n      <th>橫坐標</th>\n      <th>縱坐標</th>\n      <th>備註</th>\n      <th>主建物面積</th>\n      <th>陽台面積</th>\n      <th>附屬建物面積</th>\n      <th>lat</th>\n      <th>lng</th>\n    </tr>\n  </thead>\n  <tbody>\n    <tr>\n      <th>0</th>\n      <td>PR-1</td>\n      <td>高雄市</td>\n      <td>前鎮區</td>\n      <td>鎮海路</td>\n      <td>-0.541033</td>\n      <td>NaN</td>\n      <td>12</td>\n      <td>14</td>\n      <td>住家用</td>\n      <td>鋼筋混凝土造</td>\n      <td>...</td>\n      <td>-0.819326</td>\n      <td>0.0</td>\n      <td>179750</td>\n      <td>2499123</td>\n      <td>NaN</td>\n      <td>0.127159</td>\n      <td>0.035249</td>\n      <td>-0.438452</td>\n      <td>22.590707</td>\n      <td>120.316770</td>\n    </tr>\n    <tr>\n      <th>1</th>\n      <td>PR-2</td>\n      <td>台北市</td>\n      <td>北投區</td>\n      <td>大同街</td>\n      <td>0.753799</td>\n      <td>NaN</td>\n      <td>4</td>\n      <td>7</td>\n      <td>其他</td>\n      <td>鋼筋混凝土造</td>\n      <td>...</td>\n      <td>0.311470</td>\n      <td>1.0</td>\n      <td>300436</td>\n      <td>2781335</td>\n      <td>NaN</td>\n      <td>-0.464083</td>\n      <td>-0.160979</td>\n      <td>-0.438452</td>\n      <td>25.139613</td>\n      <td>121.500226</td>\n    </tr>\n    <tr>\n      <th>2</th>\n      <td>PR-3</td>\n      <td>台北市</td>\n      <td>大同區</td>\n      <td>大龍街</td>\n      <td>0.482869</td>\n      <td>住</td>\n      <td>6</td>\n      <td>7</td>\n      <td>住家用</td>\n      <td>鋼筋混凝土造</td>\n      <td>...</td>\n      <td>-0.819326</td>\n      <td>0.0</td>\n      <td>302091</td>\n      <td>2773374</td>\n      <td>NaN</td>\n      <td>0.832407</td>\n      <td>2.461656</td>\n      <td>-0.438452</td>\n      <td>25.067685</td>\n      <td>121.516338</td>\n    </tr>\n    <tr>\n      <th>3</th>\n      <td>PR-4</td>\n      <td>新北市</td>\n      <td>蘆洲區</td>\n      <td>民族路</td>\n      <td>0.390940</td>\n      <td>NaN</td>\n      <td>4</td>\n      <td>4</td>\n      <td>住家用</td>\n      <td>加強磚造</td>\n      <td>...</td>\n      <td>-0.819326</td>\n      <td>0.0</td>\n      <td>298394</td>\n      <td>2775413</td>\n      <td>NaN</td>\n      <td>0.052476</td>\n      <td>-1.642077</td>\n      <td>-0.438452</td>\n      <td>25.086216</td>\n      <td>121.479765</td>\n    </tr>\n    <tr>\n      <th>4</th>\n      <td>PR-5</td>\n      <td>新北市</td>\n      <td>新莊區</td>\n      <td>龍安路</td>\n      <td>-0.711599</td>\n      <td>NaN</td>\n      <td>3</td>\n      <td>8</td>\n      <td>住家用</td>\n      <td>鋼筋混凝土造</td>\n      <td>...</td>\n      <td>-0.819326</td>\n      <td>0.0</td>\n      <td>292572</td>\n      <td>2767887</td>\n      <td>NaN</td>\n      <td>-0.968196</td>\n      <td>-0.333319</td>\n      <td>-0.022099</td>\n      <td>25.018446</td>\n      <td>121.421816</td>\n    </tr>\n    <tr>\n      <th>...</th>\n      <td>...</td>\n      <td>...</td>\n      <td>...</td>\n      <td>...</td>\n      <td>...</td>\n      <td>...</td>\n      <td>...</td>\n      <td>...</td>\n      <td>...</td>\n      <td>...</td>\n      <td>...</td>\n      <td>...</td>\n      <td>...</td>\n      <td>...</td>\n      <td>...</td>\n      <td>...</td>\n      <td>...</td>\n      <td>...</td>\n      <td>...</td>\n      <td>...</td>\n      <td>...</td>\n    </tr>\n    <tr>\n      <th>5870</th>\n      <td>PR-5871</td>\n      <td>高雄市</td>\n      <td>鳳山區</td>\n      <td>和德街</td>\n      <td>-0.163249</td>\n      <td>NaN</td>\n      <td>25</td>\n      <td>25</td>\n      <td>集合住宅</td>\n      <td>鋼筋混凝土造</td>\n      <td>...</td>\n      <td>1.661628</td>\n      <td>2.0</td>\n      <td>184250</td>\n      <td>2502080</td>\n      <td>NaN</td>\n      <td>-0.496050</td>\n      <td>0.946431</td>\n      <td>0.870392</td>\n      <td>22.617591</td>\n      <td>120.360410</td>\n    </tr>\n    <tr>\n      <th>5871</th>\n      <td>PR-5872</td>\n      <td>台北市</td>\n      <td>南港區</td>\n      <td>玉成街</td>\n      <td>1.118749</td>\n      <td>NaN</td>\n      <td>6</td>\n      <td>17</td>\n      <td>一般事務所</td>\n      <td>其他</td>\n      <td>...</td>\n      <td>4.845468</td>\n      <td>3.0</td>\n      <td>308685</td>\n      <td>2771134</td>\n      <td>NaN</td>\n      <td>2.717029</td>\n      <td>1.105120</td>\n      <td>-0.130991</td>\n      <td>25.047221</td>\n      <td>121.581601</td>\n    </tr>\n    <tr>\n      <th>5872</th>\n      <td>PR-5873</td>\n      <td>新北市</td>\n      <td>林口區</td>\n      <td>文化二路一段</td>\n      <td>-0.053200</td>\n      <td>NaN</td>\n      <td>14</td>\n      <td>14</td>\n      <td>住家用</td>\n      <td>鋼筋混凝土造</td>\n      <td>...</td>\n      <td>-0.819326</td>\n      <td>0.0</td>\n      <td>287075</td>\n      <td>2773585</td>\n      <td>NaN</td>\n      <td>0.242296</td>\n      <td>-0.084194</td>\n      <td>-0.438452</td>\n      <td>25.070033</td>\n      <td>121.367504</td>\n    </tr>\n    <tr>\n      <th>5873</th>\n      <td>PR-5874</td>\n      <td>高雄市</td>\n      <td>鳳山區</td>\n      <td>文龍東路</td>\n      <td>-0.089851</td>\n      <td>NaN</td>\n      <td>2</td>\n      <td>15</td>\n      <td>集合住宅</td>\n      <td>鋼筋混凝土造</td>\n      <td>...</td>\n      <td>-0.819326</td>\n      <td>0.0</td>\n      <td>185561</td>\n      <td>2504746</td>\n      <td>NaN</td>\n      <td>-0.257007</td>\n      <td>2.461656</td>\n      <td>-0.438452</td>\n      <td>22.641717</td>\n      <td>120.373053</td>\n    </tr>\n    <tr>\n      <th>5874</th>\n      <td>PR-5875</td>\n      <td>新竹縣</td>\n      <td>竹北市</td>\n      <td>十興路一段</td>\n      <td>1.475407</td>\n      <td>NaN</td>\n      <td>10</td>\n      <td>14</td>\n      <td>住家用</td>\n      <td>鋼筋混凝土造</td>\n      <td>...</td>\n      <td>1.748137</td>\n      <td>2.0</td>\n      <td>253067</td>\n      <td>2746655</td>\n      <td>NaN</td>\n      <td>1.500031</td>\n      <td>0.192232</td>\n      <td>0.501012</td>\n      <td>24.827349</td>\n      <td>121.030342</td>\n    </tr>\n  </tbody>\n</table>\n<p>5875 rows × 23 columns</p>\n</div>"
     },
     "execution_count": 3,
     "metadata": {},
     "output_type": "execute_result"
    }
   ],
   "source": [
    "training_data = pd.read_csv(data_path)\n",
    "\n",
    "lat = []\n",
    "lng = []\n",
    "for E, N in tqdm(zip(training_data['橫坐標'], training_data['縱坐標']), total=len(training_data)):\n",
    "    latitude, longitude = twd97.towgs84(E, N)\n",
    "    lat.append(latitude)\n",
    "    lng.append(longitude)\n",
    "\n",
    "training_data['lat'] = lat\n",
    "training_data['lng'] = lng\n",
    "\n",
    "print(\"房市訓練資料有：\", len(training_data), \"筆\")\n",
    "training_data"
   ],
   "metadata": {
    "collapsed": false,
    "ExecuteTime": {
     "end_time": "2023-11-11T09:36:22.361169200Z",
     "start_time": "2023-11-11T09:36:22.174628900Z"
    }
   },
   "id": "f4e9b59de28e7396"
  },
  {
   "cell_type": "code",
   "execution_count": 4,
   "outputs": [],
   "source": [
    "def count_around_build(base_df: pd.DataFrame, query_df: pd.DataFrame, lat_name: str, lng_name: str,\n",
    "                       threshold: float) -> list:\n",
    "    base_lat_numpy = base_df['lat'].values\n",
    "    base_lng_numpy = base_df['lng'].values\n",
    "    query_lat_numpy = query_df[lat_name].values\n",
    "    query_lng_numpy = query_df[lng_name].values\n",
    "\n",
    "    def geo_distance(a, b):\n",
    "        earth_radius = 6371.009\n",
    "\n",
    "        a_lat, a_lng = a\n",
    "        b_lat, b_lng = b\n",
    "\n",
    "        d_lat = np.radians(b_lat - a_lat)\n",
    "        d_lng = np.radians(b_lng - a_lng)\n",
    "\n",
    "        h = (np.sin(d_lat / 2) ** 2 + np.cos(np.radians(a_lat)) * np.cos(np.radians(b_lat)) * (np.sin(d_lng / 2) ** 2))\n",
    "        d = 2 * earth_radius * np.arctan2(np.sqrt(h), np.sqrt(np.ones_like(h) - h))\n",
    "        return d\n",
    "\n",
    "    static_list = []\n",
    "    for lat, lng in tqdm(zip(base_lat_numpy, base_lng_numpy), total=len(base_df)):\n",
    "        dist = geo_distance((lat, lng), (query_lat_numpy, query_lng_numpy))\n",
    "        static_list.append((dist < threshold).sum())\n",
    "\n",
    "    return static_list"
   ],
   "metadata": {
    "collapsed": false,
    "ExecuteTime": {
     "end_time": "2023-11-11T09:36:22.367169Z",
     "start_time": "2023-11-11T09:36:22.333310400Z"
    }
   },
   "id": "a6aedbb9fd7cb312"
  },
  {
   "cell_type": "markdown",
   "source": [
    "# 全資料統計\n",
    "## 更改KM即可"
   ],
   "metadata": {
    "collapsed": false
   }
  },
  {
   "cell_type": "code",
   "execution_count": 5,
   "outputs": [],
   "source": [
    "# KM = 1\n",
    "#\n",
    "# external_data = Path('external_data')\n",
    "# for institute in external_data.glob('*.csv'):\n",
    "#     name = institute.name.split('.')[0].replace('基本資料', '').replace('資料', '')\n",
    "#     name = \"鄰近\" + name + \"統計\"\n",
    "#     print(name)\n",
    "#\n",
    "#     df = pd.read_csv(institute)\n",
    "#     print(\"資料長度：\", len(df))\n",
    "#     static_list = count_around_build(training_data, df, 'lat', 'lng', KM)\n",
    "#     training_data[name] = static_list\n",
    "#\n",
    "# training_data.to_csv(f'{KM}KM_' + data_path)"
   ],
   "metadata": {
    "collapsed": false,
    "ExecuteTime": {
     "end_time": "2023-11-11T09:36:22.393171900Z",
     "start_time": "2023-11-11T09:36:22.348168900Z"
    }
   },
   "id": "eff52bc9e6324c77"
  },
  {
   "cell_type": "markdown",
   "source": [
    "# 自定統計"
   ],
   "metadata": {
    "collapsed": false
   }
  },
  {
   "cell_type": "code",
   "execution_count": 6,
   "outputs": [
    {
     "name": "stdout",
     "output_type": "stream",
     "text": [
      "鄰近捷運站點統計\n",
      "資料長度： 239\n"
     ]
    },
    {
     "data": {
      "text/plain": "  0%|          | 0/5875 [00:00<?, ?it/s]",
      "application/vnd.jupyter.widget-view+json": {
       "version_major": 2,
       "version_minor": 0,
       "model_id": "97509ac4fe2446089b27fb64dca4d7e2"
      }
     },
     "metadata": {},
     "output_type": "display_data"
    }
   ],
   "source": [
    "institute = Path('external_data/捷運站點資料.csv')\n",
    "name = institute.name.split('.')[0].replace('基本資料', '').replace('資料', '')\n",
    "name = \"鄰近\" + name + \"統計\"\n",
    "print(name)\n",
    "\n",
    "df = pd.read_csv(institute)\n",
    "print(\"資料長度：\", len(df))\n",
    "static_list = count_around_build(training_data, df, 'lat', 'lng', 0.5)\n",
    "training_data[name] = static_list"
   ],
   "metadata": {
    "collapsed": false,
    "ExecuteTime": {
     "end_time": "2023-11-11T09:36:22.538192900Z",
     "start_time": "2023-11-11T09:36:22.364169400Z"
    }
   }
  },
  {
   "cell_type": "code",
   "execution_count": 7,
   "outputs": [
    {
     "name": "stdout",
     "output_type": "stream",
     "text": [
      "鄰近火車站點統計\n",
      "資料長度： 242\n"
     ]
    },
    {
     "data": {
      "text/plain": "  0%|          | 0/5875 [00:00<?, ?it/s]",
      "application/vnd.jupyter.widget-view+json": {
       "version_major": 2,
       "version_minor": 0,
       "model_id": "0d2513b1325642b381aa0d675e52b743"
      }
     },
     "metadata": {},
     "output_type": "display_data"
    }
   ],
   "source": [
    "institute = Path('external_data/火車站點資料.csv')\n",
    "name = institute.name.split('.')[0].replace('基本資料', '').replace('資料', '')\n",
    "name = \"鄰近\" + name + \"統計\"\n",
    "print(name)\n",
    "\n",
    "df = pd.read_csv(institute)\n",
    "print(\"資料長度：\", len(df))\n",
    "static_list = count_around_build(training_data, df, 'lat', 'lng', 1)\n",
    "training_data[name] = static_list"
   ],
   "metadata": {
    "collapsed": false,
    "ExecuteTime": {
     "end_time": "2023-11-11T09:36:22.695952300Z",
     "start_time": "2023-11-11T09:36:22.539192200Z"
    }
   }
  },
  {
   "cell_type": "code",
   "execution_count": 8,
   "outputs": [
    {
     "name": "stdout",
     "output_type": "stream",
     "text": [
      "鄰近公車站點統計\n",
      "資料長度： 111761\n"
     ]
    },
    {
     "data": {
      "text/plain": "  0%|          | 0/5875 [00:00<?, ?it/s]",
      "application/vnd.jupyter.widget-view+json": {
       "version_major": 2,
       "version_minor": 0,
       "model_id": "ab8ff28dc12e40b090844eaa84de2909"
      }
     },
     "metadata": {},
     "output_type": "display_data"
    }
   ],
   "source": [
    "institute = Path('external_data/公車站點資料.csv')\n",
    "name = institute.name.split('.')[0].replace('基本資料', '').replace('資料', '')\n",
    "name = \"鄰近\" + name + \"統計\"\n",
    "print(name)\n",
    "\n",
    "df = pd.read_csv(institute)\n",
    "print(\"資料長度：\", len(df))\n",
    "static_list = count_around_build(training_data, df, 'lat', 'lng', 0.2)\n",
    "training_data[name] = static_list"
   ],
   "metadata": {
    "collapsed": false,
    "ExecuteTime": {
     "end_time": "2023-11-11T09:36:46.011996Z",
     "start_time": "2023-11-11T09:36:22.697951100Z"
    }
   }
  },
  {
   "cell_type": "code",
   "execution_count": 9,
   "outputs": [
    {
     "name": "stdout",
     "output_type": "stream",
     "text": [
      "鄰近腳踏車站點統計\n",
      "資料長度： 6276\n"
     ]
    },
    {
     "data": {
      "text/plain": "  0%|          | 0/5875 [00:00<?, ?it/s]",
      "application/vnd.jupyter.widget-view+json": {
       "version_major": 2,
       "version_minor": 0,
       "model_id": "bbafa4f977284add9fb8fc1e5dbe5cc3"
      }
     },
     "metadata": {},
     "output_type": "display_data"
    }
   ],
   "source": [
    "institute = Path('external_data/腳踏車站點資料.csv')\n",
    "name = institute.name.split('.')[0].replace('基本資料', '').replace('資料', '')\n",
    "name = \"鄰近\" + name + \"統計\"\n",
    "print(name)\n",
    "\n",
    "df = pd.read_csv(institute)\n",
    "print(\"資料長度：\", len(df))\n",
    "static_list = count_around_build(training_data, df, 'lat', 'lng', 0.2)\n",
    "training_data[name] = static_list"
   ],
   "metadata": {
    "collapsed": false,
    "ExecuteTime": {
     "end_time": "2023-11-11T09:36:46.922659200Z",
     "start_time": "2023-11-11T09:36:46.012997200Z"
    }
   }
  },
  {
   "cell_type": "code",
   "execution_count": 10,
   "outputs": [
    {
     "name": "stdout",
     "output_type": "stream",
     "text": [
      "鄰近國小統計\n",
      "資料長度： 2668\n"
     ]
    },
    {
     "data": {
      "text/plain": "  0%|          | 0/5875 [00:00<?, ?it/s]",
      "application/vnd.jupyter.widget-view+json": {
       "version_major": 2,
       "version_minor": 0,
       "model_id": "2784c56cf3674452b4db6fad64b8d5cc"
      }
     },
     "metadata": {},
     "output_type": "display_data"
    }
   ],
   "source": [
    "institute = Path('external_data/國小基本資料.csv')\n",
    "name = institute.name.split('.')[0].replace('基本資料', '').replace('資料', '')\n",
    "name = \"鄰近\" + name + \"統計\"\n",
    "print(name)\n",
    "\n",
    "df = pd.read_csv(institute)\n",
    "print(\"資料長度：\", len(df))\n",
    "static_list = count_around_build(training_data, df, 'lat', 'lng', 1)\n",
    "training_data[name] = static_list"
   ],
   "metadata": {
    "collapsed": false,
    "ExecuteTime": {
     "end_time": "2023-11-11T09:36:47.395992900Z",
     "start_time": "2023-11-11T09:36:46.924664800Z"
    }
   }
  },
  {
   "cell_type": "code",
   "execution_count": 11,
   "outputs": [
    {
     "name": "stdout",
     "output_type": "stream",
     "text": [
      "鄰近國中統計\n",
      "資料長度： 965\n"
     ]
    },
    {
     "data": {
      "text/plain": "  0%|          | 0/5875 [00:00<?, ?it/s]",
      "application/vnd.jupyter.widget-view+json": {
       "version_major": 2,
       "version_minor": 0,
       "model_id": "bc11136725ae401593793d34b75d783c"
      }
     },
     "metadata": {},
     "output_type": "display_data"
    }
   ],
   "source": [
    "institute = Path('external_data/國中基本資料.csv')\n",
    "name = institute.name.split('.')[0].replace('基本資料', '').replace('資料', '')\n",
    "name = \"鄰近\" + name + \"統計\"\n",
    "print(name)\n",
    "\n",
    "df = pd.read_csv(institute)\n",
    "print(\"資料長度：\", len(df))\n",
    "static_list = count_around_build(training_data, df, 'lat', 'lng', 1)\n",
    "training_data[name] = static_list"
   ],
   "metadata": {
    "collapsed": false,
    "ExecuteTime": {
     "end_time": "2023-11-11T09:36:47.661128Z",
     "start_time": "2023-11-11T09:36:47.396993500Z"
    }
   }
  },
  {
   "cell_type": "code",
   "execution_count": 12,
   "outputs": [
    {
     "name": "stdout",
     "output_type": "stream",
     "text": [
      "鄰近醫療機構統計\n",
      "資料長度： 23302\n"
     ]
    },
    {
     "data": {
      "text/plain": "  0%|          | 0/5875 [00:00<?, ?it/s]",
      "application/vnd.jupyter.widget-view+json": {
       "version_major": 2,
       "version_minor": 0,
       "model_id": "6df942fbddc74bc6aa3dbe09ba58e978"
      }
     },
     "metadata": {},
     "output_type": "display_data"
    }
   ],
   "source": [
    "institute = Path('external_data/醫療機構基本資料.csv')\n",
    "name = institute.name.split('.')[0].replace('基本資料', '').replace('資料', '')\n",
    "name = \"鄰近\" + name + \"統計\"\n",
    "print(name)\n",
    "\n",
    "df = pd.read_csv(institute)\n",
    "print(\"資料長度：\", len(df))\n",
    "static_list = count_around_build(training_data, df, 'lat', 'lng', 0.5)\n",
    "training_data[name] = static_list"
   ],
   "metadata": {
    "collapsed": false,
    "ExecuteTime": {
     "end_time": "2023-11-11T09:36:50.570381600Z",
     "start_time": "2023-11-11T09:36:47.662633100Z"
    }
   }
  },
  {
   "cell_type": "code",
   "execution_count": 13,
   "outputs": [
    {
     "name": "stdout",
     "output_type": "stream",
     "text": [
      "鄰近便利商店統計\n",
      "資料長度： 13097\n"
     ]
    },
    {
     "data": {
      "text/plain": "  0%|          | 0/5875 [00:00<?, ?it/s]",
      "application/vnd.jupyter.widget-view+json": {
       "version_major": 2,
       "version_minor": 0,
       "model_id": "657e10d127594126b90da80dc4a2b3a1"
      }
     },
     "metadata": {},
     "output_type": "display_data"
    }
   ],
   "source": [
    "institute = Path('external_data/便利商店.csv')\n",
    "name = institute.name.split('.')[0].replace('基本資料', '').replace('資料', '')\n",
    "name = \"鄰近\" + name + \"統計\"\n",
    "print(name)\n",
    "\n",
    "df = pd.read_csv(institute)\n",
    "print(\"資料長度：\", len(df))\n",
    "static_list = count_around_build(training_data, df, 'lat', 'lng', 0.5)\n",
    "training_data[name] = static_list"
   ],
   "metadata": {
    "collapsed": false,
    "ExecuteTime": {
     "end_time": "2023-11-11T09:36:52.265180200Z",
     "start_time": "2023-11-11T09:36:50.570381600Z"
    }
   }
  },
  {
   "cell_type": "code",
   "execution_count": 14,
   "outputs": [],
   "source": [
    "training_data.to_csv(f'Custom_' + data_path)"
   ],
   "metadata": {
    "collapsed": false,
    "ExecuteTime": {
     "end_time": "2023-11-11T09:36:52.343897800Z",
     "start_time": "2023-11-11T09:36:52.267180300Z"
    }
   }
  }
 ],
 "metadata": {
  "kernelspec": {
   "display_name": "Python 3",
   "language": "python",
   "name": "python3"
  },
  "language_info": {
   "codemirror_mode": {
    "name": "ipython",
    "version": 2
   },
   "file_extension": ".py",
   "mimetype": "text/x-python",
   "name": "python",
   "nbconvert_exporter": "python",
   "pygments_lexer": "ipython2",
   "version": "2.7.6"
  }
 },
 "nbformat": 4,
 "nbformat_minor": 5
}
